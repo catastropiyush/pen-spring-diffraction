{
 "cells": [
  {
   "cell_type": "code",
   "execution_count": null,
   "metadata": {},
   "outputs": [],
   "source": [
    "#hide code segments from display\n",
    "from IPython.display import HTML\n",
    "HTML('''<script>\n",
    "code_show=true; \n",
    "function code_toggle() {\n",
    " if (code_show){\n",
    " $('div.input').hide();\n",
    " } else {\n",
    " $('div.input').show();\n",
    " }\n",
    " code_show = !code_show\n",
    "} \n",
    "$( document ).ready(code_toggle);\n",
    "</script>\n",
    "The raw code for this notebook is hidden for easier reading.\n",
    "To toggle code display, click <a href=\"javascript:code_toggle()\">here</a>.''')"
   ]
  },
  {
   "cell_type": "markdown",
   "metadata": {},
   "source": [
    "# Pen Spring Diffraction Experiment\n",
    "In this experiment, we illustrate the diffraction of a pen spring (a regular helix) and discuss its implications.\n",
    "\n",
    "We will first import `numpy` to aid us in our calculations and `matplotlib` to aid us in visualisation."
   ]
  },
  {
   "cell_type": "code",
   "execution_count": null,
   "metadata": {},
   "outputs": [],
   "source": [
    "import numpy as np\n",
    "import matplotlib.pyplot as plt\n",
    "import math\n",
    "%config InlineBackend.figure_format = 'retina'\n",
    "\n",
    "def sinc(x):\n",
    "    if (x != 0):\n",
    "        return np.sin(np.pi * x) / (np. pi * x)\n",
    "    else:\n",
    "        return 1\n",
    "sinc = np.vectorize(sinc)"
   ]
  },
  {
   "cell_type": "markdown",
   "metadata": {},
   "source": [
    "![Experiment Setup](setup.png)\n",
    "# 1. Fill in: Experiment Variables\n",
    "Enter the values here to match your experimental apparatus.\n",
    "\n",
    "1. `slitWidth` is the gap in between each individual coil of the spring. From now on, it will be referred to as the *pitch* of the spring.\n",
    "2. `wavelength` is the wavelength of the laser that is emitted by the laser pointer. It is usually marked near the emitter, on a warning label.\n",
    "3. `distance` is the distance between the center of the spring and the surface on which the pattern is projection upon.\n",
    "\n",
    "Units of the values below are given in **micrometers** ($10^{-6}$ m, also refered to as the **micron**)."
   ]
  },
  {
   "cell_type": "code",
   "execution_count": null,
   "metadata": {},
   "outputs": [],
   "source": [
    "'''\n",
    "slitWidth  = 2500          # 2.5mm\n",
    "wavelength = 0.650         # 650nm\n",
    "distance   = 10.3 * 10**6  # 10.3m\n",
    "'''\n",
    "slitWidth  = float(input(\"slitWidth: \")) #2500          # 2.5mm\n",
    "wavelength = float(input(\"wavelength: \")) #0.650         # 650nm\n",
    "distance   = float(eval(input(\"distance: \"))) #10.3 * 10**6  # 10.3m"
   ]
  },
  {
   "cell_type": "markdown",
   "metadata": {},
   "source": [
    "![Experiment Result](result.jpg)\n",
    "# 2. Fill in: Experiment Results\n",
    "\n",
    "Measure the distance from the center to the $n-$th maxima. Choose any reasonable number!\n",
    "\n",
    "Change the variable here to match your result in **mm**. It will be plotted on the visualisation later on."
   ]
  },
  {
   "cell_type": "code",
   "execution_count": null,
   "metadata": {},
   "outputs": [],
   "source": [
    "#result_mm = 25.5\n",
    "result_mm = float(input(\"result: \"))"
   ]
  },
  {
   "cell_type": "markdown",
   "metadata": {},
   "source": [
    "# Visualising a Single-slit Diffraction\n",
    "We will first set up some parameters, and then proceed to plot the intensity over distance from the center of the pattern."
   ]
  },
  {
   "cell_type": "code",
   "execution_count": null,
   "metadata": {},
   "outputs": [],
   "source": [
    "amplitude = 5 # the power of the laser (mW) as marked on the laser point. The accuracy of this value is trivial.\n",
    "x = np.arange(-50000, 50000, 10) # numerical bounds and resolution of the graph (micron)\n",
    "F = sinc(slitWidth * x / wavelength / distance)\n",
    "intensity = amplitude / (wavelength * distance) * (slitWidth * F)**2"
   ]
  },
  {
   "cell_type": "markdown",
   "metadata": {},
   "source": [
    "### Plotting the graph\n",
    "See if your result (marked by blue line) indeed corresponds to the maxima from which you measured earlier on"
   ]
  },
  {
   "cell_type": "code",
   "execution_count": null,
   "metadata": {},
   "outputs": [],
   "source": [
    "plt.figure(1, (12, 6))\n",
    "plt.plot(x, intensity, linewidth=1, color='r') # red indicates the intensity\n",
    "result = result_mm * 1000\n",
    "plt.axvline(x = result, color='b', label=\"Obtained result: \"+str(result_mm)+\"mm\") # blue indicated your result indicated earlier\n",
    "plt.xlim((0, 50000))\n",
    "plt.ylim((0, 0.06))\n",
    "plt.xlabel(r'Position ($\\mu$m)m)')\n",
    "plt.ylabel(r'Intensity (mW)')\n",
    "plt.legend(loc='lower right')\n",
    "plt.title(\"Single-slit Diffraction (intensity / distance)\")\n",
    "plt.show()"
   ]
  },
  {
   "cell_type": "markdown",
   "metadata": {},
   "source": [
    "# Angle between the Lines\n",
    "Now, we will attempt to calculate the angle between the lines that form the X-shape. It corresponds to the *helix angle* on the spring.\n",
    "\n",
    "The laser will illuminate one pitch (complete curl) of the spring.\n",
    "\n",
    "**Babinet’s principle** states that the diffraction pattern of an obstacle is the same as the diffraction pattern of an aperture of the same shape. Hence, we will expect to see *two* single slit diffraction patterns angled to each other.\n",
    "\n",
    "When viewed from the side, the spring (or any regular helix) resembles a sine wave. We also will make use of this property later on."
   ]
  },
  {
   "cell_type": "code",
   "execution_count": null,
   "metadata": {},
   "outputs": [],
   "source": [
    "plt.figure(1, (3, 4))\n",
    "t = np.arange(0, 2.5, 0.04)\n",
    "s = np.sin(2*np.pi*t)\n",
    "plt.plot(s, t, color='k', linewidth=2)\n",
    "x_p = np.linspace(-0.9, 0.9, 3)\n",
    "line1,  = plt.plot(x_p, 0.17*x_p + 1, '--', linewidth=4, color='r', label='Illuminated Section')\n",
    "line2,  = plt.plot(x_p, -0.17*x_p + 0.98+np.pi/6, '--', linewidth=4, color='r')\n",
    "plt.axis('off')\n",
    "plt.legend(loc='lower right')\n",
    "plt.title(\"Sideways projection of the Spring\")\n",
    "plt.show()"
   ]
  },
  {
   "cell_type": "markdown",
   "metadata": {},
   "source": [
    "# 3. Fill In: Parameters of the Spring\n",
    "Enter the dimensions of the spring below, measured with a pair of vernier calipers. The units here are given in **mm**."
   ]
  },
  {
   "cell_type": "code",
   "execution_count": null,
   "metadata": {},
   "outputs": [],
   "source": [
    "'''\n",
    "pitch_mm  = 2.5   # p\n",
    "radius_mm = 2.05  # R\n",
    "'''\n",
    "pitch_mm  = float(input(\"pitch_mm: \"))\n",
    "radius_mm = float(input(\"radius_mm: \"))"
   ]
  },
  {
   "cell_type": "markdown",
   "metadata": {},
   "source": [
    "We orientate the spring in the $y-z$ plane to make it easier to work with.\n",
    "\n",
    "The code below generates a graphical representation of your spring projected onto the $y-z$ plane."
   ]
  },
  {
   "cell_type": "code",
   "execution_count": null,
   "metadata": {},
   "outputs": [],
   "source": [
    "plt.figure(2, (12, 8))\n",
    "z_q = np.arange(-2*pitch_mm, 2*pitch_mm, 0.05)\n",
    "y_q = radius_mm * np.sin(2*np.pi * z_q/pitch_mm)\n",
    "plt.plot(z_q, y_q, color = 'k', linewidth=4 , label='Spring')\n",
    "\n",
    "y_1 = radius_mm * (2*np.pi * z_q/pitch_mm - 2*np.pi)\n",
    "y_2 = radius_mm * (2*np.pi * z_q/pitch_mm)\n",
    "y_3 = radius_mm * (2*np.pi * z_q/pitch_mm + 2*np.pi)\n",
    "\n",
    "alpha = np.pi/2 - math.atan(radius_mm * 2*np.pi / pitch_mm)\n",
    "\n",
    "plt.plot(z_q, y_1, \"--\", color='r', label = r'$y=\\frac{2\\pi R}{p}z+2n\\pi$')\n",
    "plt.plot(z_q, y_2, \"--\", color='r')\n",
    "plt.plot(z_q, y_3, \"--\", color='r')\n",
    "\n",
    "plt.text(0.1, 2, r'$\\alpha$', fontsize=20)\n",
    "\n",
    "d = pitch_mm*math.cos(alpha)\n",
    "x_d2 = pitch_mm*(math.cos(alpha)**2)\n",
    "\n",
    "x_d = np.linspace(0, x_d2, 3)\n",
    "plt.plot(x_d, -1*(pitch_mm/(2*np.pi*radius_mm)) * x_d, \"--\", color='b')\n",
    "plt.text(0.1, -radius_mm/3, \"$d$ = \" + str('%.1f'%d) + \"mm\", color=\"b\", fontsize=14)\n",
    "\n",
    "x_p1 = pitch_mm/4\n",
    "x_p2 = x_p1 + pitch_mm\n",
    "x_pitch = np.linspace(x_p1, x_p2, 3)\n",
    "plt.plot(x_pitch, radius_mm + x_pitch*0, \"--\", color='g')\n",
    "plt.text((x_p1+x_p2)/2-0.6, radius_mm + 0.1, \"$p$ = \" + str(pitch_mm) + \"mm\", color=\"g\", fontsize=14)\n",
    "\n",
    "plt.xlabel('$z$ (mm)')\n",
    "plt.axvline(x=0, color='k', alpha=0.5)\n",
    "plt.ylabel('$y$ (mm)')\n",
    "plt.axhline(y=0, color='k', alpha=0.5)\n",
    "plt.axis('equal')\n",
    "plt.xlim((-2*pitch_mm, 2*pitch_mm))\n",
    "plt.ylim((-radius_mm*1.2, radius_mm*1.2))\n",
    "plt.legend(loc='lower right')\n",
    "ax = plt.gca()\n",
    "ax.set_xticks(np.arange(-2*pitch_mm, 2*pitch_mm, 1))\n",
    "ax.set_yticks(np.arange(-radius_mm*2, radius_mm*2, 1))\n",
    "plt.grid(True, linestyle='--', linewidth=1, alpha=0.5)\n",
    "plt.title(r\"Projection of Spring [$p=$\"+str(pitch_mm)+r\"mm, $R=$\"+str(radius_mm)+r\"mm] in the $y-z$ plane\")\n",
    "plt.show()"
   ]
  },
  {
   "cell_type": "markdown",
   "metadata": {},
   "source": [
    "Perform some symbolic differentiation on the equation of the spring:"
   ]
  },
  {
   "cell_type": "code",
   "execution_count": null,
   "metadata": {},
   "outputs": [],
   "source": [
    "from sympy import *\n",
    "init_printing()\n",
    "R, p, z = symbols('R p z')\n",
    "eqn_y = R * sin(2 * pi * z / p)\n",
    "eqn_y.simplify()"
   ]
  },
  {
   "cell_type": "code",
   "execution_count": null,
   "metadata": {},
   "outputs": [],
   "source": [
    "n = symbols('n', integer=True)\n",
    "deriv_y = diff(eqn_y, z)\n",
    "deriv_y.simplify()"
   ]
  },
  {
   "cell_type": "markdown",
   "metadata": {},
   "source": [
    "Substitute $z=n \\times p$:"
   ]
  },
  {
   "cell_type": "code",
   "execution_count": null,
   "metadata": {},
   "outputs": [],
   "source": [
    "deriv_y = deriv_y.subs(z, n*p) #z = n*p\n",
    "deriv_y.simplify()"
   ]
  },
  {
   "cell_type": "markdown",
   "metadata": {},
   "source": [
    "The angle $\\alpha$ is equal to the following expression:"
   ]
  },
  {
   "cell_type": "code",
   "execution_count": null,
   "metadata": {},
   "outputs": [],
   "source": [
    "eqn_a = -1 * atan(deriv_y) + pi/2\n",
    "eqn_a.simplify()"
   ]
  },
  {
   "cell_type": "code",
   "execution_count": null,
   "metadata": {},
   "outputs": [],
   "source": [
    "deriv_y = deriv_y.subs(p, pitch_mm * 10**-3)\n",
    "deriv_y = deriv_y.subs(R, radius_mm * 10**-3)\n",
    "a = -1 * math.atan(deriv_y) + math.pi/2\n",
    "print(r'The angle(α) between the lines is '\n",
    "      + str('%.3f'%(math.degrees(a)) + \" degrees (to 3dp).\"))"
   ]
  },
  {
   "cell_type": "markdown",
   "metadata": {},
   "source": [
    "# Visualising the Actual Diffraction Pattern\n",
    "Now that we have the angle and the intensity, we can attempt to visualise the pattern seen."
   ]
  },
  {
   "cell_type": "code",
   "execution_count": null,
   "metadata": {},
   "outputs": [],
   "source": [
    "angle = math.pi/2 - a\n",
    "\n",
    "plt.figure(3, (12, 12))\n",
    "\n",
    "# transform the intensity line by rotating it about the center\n",
    "x_tf = ( x / math.sqrt((math.tan(angle))**2 + 1) )\n",
    "y_tf = x_tf * math.tan(angle)\n",
    "plt.scatter(x_tf, y_tf, color='r', s=intensity, alpha=0.05) # plot the first line\n",
    "\n",
    "y_tf = x_tf * math.tan(-angle)\n",
    "plt.scatter(x_tf, y_tf, color='r', s=intensity, alpha=0.1) # plot the second line\n",
    "\n",
    "# plot the circle which marks our result from earlier (gray)\n",
    "ax = plt.gca()\n",
    "circle_result = plt.Circle((0, 0), result, color='b', fill=False, alpha=0.2)\n",
    "ax.add_artist(circle_result)\n",
    "\n",
    "plt.xlabel(\"$x$\")\n",
    "plt.ylabel(\"$y$\")\n",
    "plt.axis('equal')\n",
    "plt.xlim((-30000, 30000))\n",
    "plt.ylim((-30000, 30000))\n",
    "plt.show()"
   ]
  },
  {
   "cell_type": "markdown",
   "metadata": {},
   "source": [
    "#### Zoomed in version\n",
    "This is a close-up look at the first quadrant of the above figure.\n",
    "\n",
    "It allows us to properly judge the maxima that might not be obvious above."
   ]
  },
  {
   "cell_type": "code",
   "execution_count": null,
   "metadata": {},
   "outputs": [],
   "source": [
    "plt.figure(4, (12, 12))\n",
    "\n",
    "x_tf = ( x / math.sqrt((math.tan(angle))**2 + 1) )\n",
    "y_tf = x_tf * math.tan(angle)\n",
    "plt.scatter(x_tf, y_tf, color='r', s=intensity*100, alpha=0.05)\n",
    "\n",
    "# circle which marks the result (blue)\n",
    "ax = plt.gca()\n",
    "circle_result = plt.Circle((0, 0), result, color='b', fill=False)\n",
    "ax.add_artist(circle_result)\n",
    "\n",
    "plt.xlabel(\"$x$\")\n",
    "plt.ylabel(\"$y$\")\n",
    "plt.axis('equal')\n",
    "plt.xlim((0, 1.1*result))\n",
    "plt.ylim((0, 30000))\n",
    "plt.grid(True, linestyle='--', linewidth=1, alpha=0.5)\n",
    "plt.show()"
   ]
  },
  {
   "cell_type": "markdown",
   "metadata": {},
   "source": [
    "# Significance of this Result\n",
    "![Photo 51](photo51.jpg)\n",
    "**Photograph 51** is the nickname given to an X-ray diffraction image of DNA taken by Raymond Gosling in May 1952, working as a PhD student under the supervision of Rosalind Franklin.\n",
    "\n",
    "Does it not resemble the result you have gotten from the pen spring?\n",
    "\n",
    "Since objects of similar shape produce similar diffraction patterns (Babinet's principle), this result was critical evidence in identifying the structure of DNA as a regular helix."
   ]
  },
  {
   "cell_type": "code",
   "execution_count": 1,
   "metadata": {},
   "outputs": [
    {
     "name": "stdout",
     "output_type": "stream",
     "text": [
      " _____________________ \n",
      "< Can MatLab do this? >\n",
      " --------------------- \n",
      "        \\   ^__^\n",
      "         \\  (oo)\\_______\n",
      "            (__)\\       )\\/\\\n",
      "                ||----w |\n",
      "                ||     ||\n",
      "\n"
     ]
    }
   ],
   "source": [
    "import os\n",
    "print(os.popen(\"cowsay 'Can MatLab do this?'\").read())"
   ]
  }
 ],
 "metadata": {
  "kernelspec": {
   "display_name": "Python 3",
   "language": "python",
   "name": "python3"
  },
  "language_info": {
   "codemirror_mode": {
    "name": "ipython",
    "version": 3
   },
   "file_extension": ".py",
   "mimetype": "text/x-python",
   "name": "python",
   "nbconvert_exporter": "python",
   "pygments_lexer": "ipython3",
   "version": "3.6.2"
  }
 },
 "nbformat": 4,
 "nbformat_minor": 2
}
